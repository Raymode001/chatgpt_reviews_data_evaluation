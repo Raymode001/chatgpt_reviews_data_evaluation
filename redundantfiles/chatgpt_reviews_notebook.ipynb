{
 "cells": [
  {
   "cell_type": "code",
   "execution_count": 1,
   "id": "864d1183",
   "metadata": {},
   "outputs": [
    {
     "ename": "IndexError",
     "evalue": "list index out of range",
     "output_type": "error",
     "traceback": [
      "\u001b[1;31m---------------------------------------------------------------------------\u001b[0m",
      "\u001b[1;31mIndexError\u001b[0m                                Traceback (most recent call last)",
      "Cell \u001b[1;32mIn[1], line 19\u001b[0m\n\u001b[0;32m      8\u001b[0m idx_list\u001b[38;5;241m=\u001b[39m\u001b[38;5;28msorted\u001b[39m(\u001b[38;5;28mlist\u001b[39m(s))\n\u001b[0;32m     10\u001b[0m result \u001b[38;5;241m=\u001b[39m reviews_all(\n\u001b[0;32m     11\u001b[0m     \u001b[38;5;124m'\u001b[39m\u001b[38;5;124mcom.openai.chatgpt\u001b[39m\u001b[38;5;124m'\u001b[39m,\n\u001b[0;32m     12\u001b[0m     sleep_milliseconds\u001b[38;5;241m=\u001b[39m\u001b[38;5;241m0\u001b[39m, \u001b[38;5;66;03m# defaults to 0\u001b[39;00m\n\u001b[1;32m   (...)\u001b[0m\n\u001b[0;32m     16\u001b[0m     filter_score_with\u001b[38;5;241m=\u001b[39m\u001b[38;5;28;01mNone\u001b[39;00m \u001b[38;5;66;03m# defaults to None(means all score)\u001b[39;00m\n\u001b[0;32m     17\u001b[0m )\n\u001b[1;32m---> 19\u001b[0m sample \u001b[38;5;241m=\u001b[39m [result[i] \u001b[38;5;28;01mfor\u001b[39;00m i \u001b[38;5;129;01min\u001b[39;00m idx_list]\n\u001b[0;32m     20\u001b[0m \u001b[38;5;28mprint\u001b[39m(\u001b[38;5;124m\"\u001b[39m\u001b[38;5;124msample size:\u001b[39m\u001b[38;5;124m\"\u001b[39m, \u001b[38;5;28mlen\u001b[39m(sample))\n\u001b[0;32m     21\u001b[0m \u001b[38;5;28mprint\u001b[39m(\u001b[38;5;124m\"\u001b[39m\u001b[38;5;124msamples\u001b[39m\u001b[38;5;124m\"\u001b[39m,sample[:\u001b[38;5;241m5\u001b[39m])\n",
      "Cell \u001b[1;32mIn[1], line 19\u001b[0m, in \u001b[0;36m<listcomp>\u001b[1;34m(.0)\u001b[0m\n\u001b[0;32m      8\u001b[0m idx_list\u001b[38;5;241m=\u001b[39m\u001b[38;5;28msorted\u001b[39m(\u001b[38;5;28mlist\u001b[39m(s))\n\u001b[0;32m     10\u001b[0m result \u001b[38;5;241m=\u001b[39m reviews_all(\n\u001b[0;32m     11\u001b[0m     \u001b[38;5;124m'\u001b[39m\u001b[38;5;124mcom.openai.chatgpt\u001b[39m\u001b[38;5;124m'\u001b[39m,\n\u001b[0;32m     12\u001b[0m     sleep_milliseconds\u001b[38;5;241m=\u001b[39m\u001b[38;5;241m0\u001b[39m, \u001b[38;5;66;03m# defaults to 0\u001b[39;00m\n\u001b[1;32m   (...)\u001b[0m\n\u001b[0;32m     16\u001b[0m     filter_score_with\u001b[38;5;241m=\u001b[39m\u001b[38;5;28;01mNone\u001b[39;00m \u001b[38;5;66;03m# defaults to None(means all score)\u001b[39;00m\n\u001b[0;32m     17\u001b[0m )\n\u001b[1;32m---> 19\u001b[0m sample \u001b[38;5;241m=\u001b[39m [result[i] \u001b[38;5;28;01mfor\u001b[39;00m i \u001b[38;5;129;01min\u001b[39;00m idx_list]\n\u001b[0;32m     20\u001b[0m \u001b[38;5;28mprint\u001b[39m(\u001b[38;5;124m\"\u001b[39m\u001b[38;5;124msample size:\u001b[39m\u001b[38;5;124m\"\u001b[39m, \u001b[38;5;28mlen\u001b[39m(sample))\n\u001b[0;32m     21\u001b[0m \u001b[38;5;28mprint\u001b[39m(\u001b[38;5;124m\"\u001b[39m\u001b[38;5;124msamples\u001b[39m\u001b[38;5;124m\"\u001b[39m,sample[:\u001b[38;5;241m5\u001b[39m])\n",
      "\u001b[1;31mIndexError\u001b[0m: list index out of range"
     ]
    }
   ],
   "source": [
    "import random\n",
    "import pandas as pd\n",
    "from google_play_scraper import Sort, reviews_all\n",
    "\n",
    "s=set()\n",
    "while len(s)<385:\n",
    "    s.add(random.randint(1, 22687654))\n",
    "idx_list=sorted(list(s))\n",
    "\n",
    "result = reviews_all(\n",
    "    'com.openai.chatgpt',\n",
    "    sleep_milliseconds=0, # defaults to 0\n",
    "    lang='en', # defaults to 'en'\n",
    "    country='us', # defaults to 'us'\n",
    "    sort=Sort.NEWEST, \n",
    "    filter_score_with=None # defaults to None(means all score)\n",
    ")\n",
    "\n",
    "sample = [result[i] for i in idx_list]\n",
    "print(\"sample size:\", len(sample))\n",
    "print(\"samples\",sample[:5])"
   ]
  },
  {
   "cell_type": "code",
   "execution_count": 2,
   "id": "235f9cee",
   "metadata": {},
   "outputs": [
    {
     "data": {
      "text/plain": [
       "1188567"
      ]
     },
     "execution_count": 2,
     "metadata": {},
     "output_type": "execute_result"
    }
   ],
   "source": [
    "len(result)"
   ]
  },
  {
   "cell_type": "code",
   "execution_count": 3,
   "id": "199781e7",
   "metadata": {},
   "outputs": [
    {
     "name": "stdout",
     "output_type": "stream",
     "text": [
      "sample size: 385\n",
      "samples [{'reviewId': '86d04fd4-1bdb-42a4-bf37-134dd4d44328', 'userName': 'A Google user', 'userImage': 'https://play-lh.googleusercontent.com/EGemoI2NTXmTsBVtJqk8jxF9rh8ApRWfsIMQSt2uE4OcpQqbFu7f7NbTK05lx80nuSijCz7sc3a277R67g', 'content': 'too filtered. and too many limits for everything, fix your app openai', 'score': 1, 'thumbsUpCount': 0, 'reviewCreatedVersion': '1.2025.203', 'at': datetime.datetime(2025, 7, 31, 6, 48, 2), 'replyContent': None, 'repliedAt': None, 'appVersion': '1.2025.203'}, {'reviewId': '331345d6-69c5-4e14-8597-045e95b0a33c', 'userName': 'A Google user', 'userImage': 'https://play-lh.googleusercontent.com/EGemoI2NTXmTsBVtJqk8jxF9rh8ApRWfsIMQSt2uE4OcpQqbFu7f7NbTK05lx80nuSijCz7sc3a277R67g', 'content': 'good 👍', 'score': 5, 'thumbsUpCount': 0, 'reviewCreatedVersion': '1.2025.203', 'at': datetime.datetime(2025, 7, 30, 22, 41, 33), 'replyContent': None, 'repliedAt': None, 'appVersion': '1.2025.203'}, {'reviewId': '0f69de57-2cab-4b9c-8a9e-2bf848fc581d', 'userName': 'A Google user', 'userImage': 'https://play-lh.googleusercontent.com/EGemoI2NTXmTsBVtJqk8jxF9rh8ApRWfsIMQSt2uE4OcpQqbFu7f7NbTK05lx80nuSijCz7sc3a277R67g', 'content': 'This app is very interesting', 'score': 5, 'thumbsUpCount': 0, 'reviewCreatedVersion': '1.2025.189', 'at': datetime.datetime(2025, 7, 29, 8, 22, 58), 'replyContent': None, 'repliedAt': None, 'appVersion': '1.2025.189'}, {'reviewId': 'b86cca28-689a-463d-80fe-eb394f835a24', 'userName': 'A Google user', 'userImage': 'https://play-lh.googleusercontent.com/EGemoI2NTXmTsBVtJqk8jxF9rh8ApRWfsIMQSt2uE4OcpQqbFu7f7NbTK05lx80nuSijCz7sc3a277R67g', 'content': \"it will destroy humanity society we don't want real Terminator here I suggest no one download chat gbt and no one cheat okay we want this app to be shut down\", 'score': 1, 'thumbsUpCount': 0, 'reviewCreatedVersion': None, 'at': datetime.datetime(2025, 7, 27, 16, 21, 24), 'replyContent': None, 'repliedAt': None, 'appVersion': None}, {'reviewId': 'b82a107a-f312-47d9-bf53-e34ccf917885', 'userName': 'A Google user', 'userImage': 'https://play-lh.googleusercontent.com/EGemoI2NTXmTsBVtJqk8jxF9rh8ApRWfsIMQSt2uE4OcpQqbFu7f7NbTK05lx80nuSijCz7sc3a277R67g', 'content': 'sangat membantu ketika perlukan idea', 'score': 5, 'thumbsUpCount': 0, 'reviewCreatedVersion': '1.2025.196', 'at': datetime.datetime(2025, 7, 27, 11, 44, 38), 'replyContent': None, 'repliedAt': None, 'appVersion': '1.2025.196'}]\n"
     ]
    }
   ],
   "source": [
    "s=set()\n",
    "while len(s)<385:\n",
    "    s.add(random.randint(1, len(result)))\n",
    "idx_list=sorted(list(s))\n",
    "sample = [result[i] for i in idx_list]\n",
    "print(\"sample size:\", len(sample))\n",
    "print(\"samples\",sample[:5])"
   ]
  },
  {
   "cell_type": "code",
   "execution_count": 4,
   "id": "14257164",
   "metadata": {},
   "outputs": [
    {
     "name": "stdout",
     "output_type": "stream",
     "text": [
      "Sample data saved to chatgpt_reviews_sample.csv\n"
     ]
    }
   ],
   "source": [
    "df = pd.DataFrame(sample)\n",
    "\n",
    "# 2. Save the DataFrame to a CSV file\n",
    "df.to_csv('chatgpt_reviews_sample.csv', index=False)\n",
    "\n",
    "print(\"Sample data saved to chatgpt_reviews_sample.csv\")"
   ]
  },
  {
   "cell_type": "code",
   "execution_count": 6,
   "id": "37651eb2",
   "metadata": {},
   "outputs": [
    {
     "name": "stdout",
     "output_type": "stream",
     "text": [
      "Converting list to DataFrame... This may take a moment.\n",
      "Saving DataFrame to CSV... This may also take some time.\n",
      "Successfully saved 1,188,567 reviews to chatgpt_reviews_1M_set.csv\n"
     ]
    }
   ],
   "source": [
    "# Assume 'all_1_million_reviews' is your list containing all 1,188,567 review dictionaries\n",
    "\n",
    "print(\"Converting list to DataFrame... This may take a moment.\")\n",
    "df = pd.DataFrame(result)\n",
    "\n",
    "print(\"Saving DataFrame to CSV... This may also take some time.\")\n",
    "df.to_csv('chatgpt_reviews_1M_set.csv', index=False)\n",
    "\n",
    "print(\"Successfully saved 1,188,567 reviews to chatgpt_reviews_1M_set.csv\")"
   ]
  },
  {
   "cell_type": "code",
   "execution_count": 2,
   "id": "a7a22382",
   "metadata": {},
   "outputs": [
    {
     "name": "stderr",
     "output_type": "stream",
     "text": [
      "C:\\Users\\m1391\\AppData\\Local\\Temp\\ipykernel_5768\\1189873596.py:10: DtypeWarning: Columns (8,9) have mixed types. Specify dtype option on import or set low_memory=False.\n",
      "  df = pd.read_csv(input_filename)\n"
     ]
    },
    {
     "name": "stdout",
     "output_type": "stream",
     "text": [
      "\n",
      "Successfully saved a random sample of 10000 reviews to 'chatgpt_reviews_sample.csv'.\n"
     ]
    }
   ],
   "source": [
    "import pandas as pd\n",
    "\n",
    "# --- Configuration ---\n",
    "# The name of your large dataset file\n",
    "input_filename = 'chatgpt_reviews_1M_set.csv'\n",
    "# The desired name for the new sample file\n",
    "output_filename = 'chatgpt_reviews_sample.csv' # <-- FILENAME UPDATED\n",
    "sample_size = 10000\n",
    "\n",
    "df = pd.read_csv(input_filename)\n",
    "sample_df = df.sample(n=sample_size, random_state=42)\n",
    "\n",
    "# Save the new sample to the specified CSV file\n",
    "sample_df.to_csv(output_filename, index=False)\n",
    "print(f\"\\nSuccessfully saved a random sample of {len(sample_df)} reviews to '{output_filename}'.\")\n"
   ]
  },
  {
   "cell_type": "code",
   "execution_count": 2,
   "id": "552ddc88",
   "metadata": {},
   "outputs": [
    {
     "name": "stdout",
     "output_type": "stream",
     "text": [
      "Collecting google_play_scraper\n",
      "  Using cached google_play_scraper-1.2.7-py3-none-any.whl.metadata (50 kB)\n",
      "Using cached google_play_scraper-1.2.7-py3-none-any.whl (28 kB)\n",
      "Installing collected packages: google_play_scraper\n",
      "Successfully installed google_play_scraper-1.2.7\n",
      "Note: you may need to restart the kernel to use updated packages.\n"
     ]
    },
    {
     "name": "stderr",
     "output_type": "stream",
     "text": [
      "\n",
      "[notice] A new release of pip is available: 25.1.1 -> 25.2\n",
      "[notice] To update, run: python.exe -m pip install --upgrade pip\n"
     ]
    }
   ],
   "source": [
    "pip install google_play_scraper"
   ]
  },
  {
   "cell_type": "code",
   "execution_count": null,
   "id": "bee4b521",
   "metadata": {},
   "outputs": [
    {
     "name": "stdout",
     "output_type": "stream",
     "text": [
      "Starting scrape. Will sample 1 review every 58928 reviews.\n",
      "Processed: 0, Samples Found: 1\n",
      "Processed: 58928, Samples Found: 2\n",
      "Processed: 117856, Samples Found: 3\n",
      "Processed: 176784, Samples Found: 4\n"
     ]
    }
   ],
   "source": [
    "import pandas as pd\n",
    "import time\n",
    "from google_play_scraper import reviews, Sort\n",
    "\n",
    "# --- 1. Configuration ---\n",
    "APP_ID = 'com.openai.chatgpt'\n",
    "# Use the known total number of reviews to calculate the interval\n",
    "TOTAL_REVIEWS = 22687654\n",
    "SAMPLE_SIZE = 385\n",
    "\n",
    "# Calculate the interval to get the desired sample size\n",
    "INTERVAL = TOTAL_REVIEWS // SAMPLE_SIZE\n",
    "\n",
    "# --- 2. Initialization ---\n",
    "sample_reviews = []\n",
    "review_count = 0\n",
    "continuation_token = None # Used to get the next page of reviews\n",
    "errors = 0\n",
    "\n",
    "print(f\"Starting scrape. Will sample 1 review every {INTERVAL} reviews.\")\n",
    "\n",
    "# --- 3. Main Scraping Loop ---\n",
    "while len(sample_reviews) < SAMPLE_SIZE:\n",
    "    try:\n",
    "        # Fetch a batch of reviews\n",
    "        result, continuation_token = reviews(\n",
    "            APP_ID,\n",
    "            lang='en',\n",
    "            country='us',\n",
    "            sort=Sort.NEWEST,\n",
    "            count=200,  # Fetch in batches of 200\n",
    "            continuation_token=continuation_token\n",
    "        )\n",
    "\n",
    "        # If no more reviews are returned, or the token is gone, stop.\n",
    "        if not result or not continuation_token:\n",
    "            print(\"Reached the end of the reviews.\")\n",
    "            break\n",
    "\n",
    "        # Loop through the batch, but only save reviews at the interval\n",
    "        for review in result:\n",
    "            if review_count % INTERVAL == 0:\n",
    "                sample_reviews.append(review)\n",
    "                # Print progress\n",
    "                print(f\"Processed: {review_count}, Samples Found: {len(sample_reviews)}\")\n",
    "                # Stop once we have enough samples\n",
    "                if len(sample_reviews) >= SAMPLE_SIZE:\n",
    "                    break\n",
    "            review_count += 1\n",
    "        \n",
    "        # Be respectful to Google's servers\n",
    "        time.sleep(1)\n",
    "\n",
    "    except Exception as e:\n",
    "        print(f\"An error occurred: {e}\")\n",
    "        errors += 1\n",
    "        if errors > 10:\n",
    "            print(\"Too many consecutive errors. Stopping.\")\n",
    "            break\n",
    "        time.sleep(5) # Wait longer after an error\n",
    "\n",
    "# --- 4. Final Result ---\n",
    "print(\"\\nScraping complete.\")\n",
    "df_sample = pd.DataFrame(sample_reviews)\n",
    "\n",
    "print(f\"Final Sample Size: {len(df_sample)}\")\n",
    "print(\"--- Sample DataFrame Head ---\")\n",
    "print(df_sample.head())"
   ]
  }
 ],
 "metadata": {
  "kernelspec": {
   "display_name": "base",
   "language": "python",
   "name": "python3"
  },
  "language_info": {
   "codemirror_mode": {
    "name": "ipython",
    "version": 3
   },
   "file_extension": ".py",
   "mimetype": "text/x-python",
   "name": "python",
   "nbconvert_exporter": "python",
   "pygments_lexer": "ipython3",
   "version": "3.11.5"
  }
 },
 "nbformat": 4,
 "nbformat_minor": 5
}
