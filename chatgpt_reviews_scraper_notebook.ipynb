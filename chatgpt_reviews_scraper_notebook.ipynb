{
 "cells": [
  {
   "cell_type": "markdown",
   "id": "907b94a7",
   "metadata": {},
   "source": [
    "## Import necessary modules"
   ]
  },
  {
   "cell_type": "code",
   "execution_count": null,
   "id": "c5d07c8f",
   "metadata": {},
   "outputs": [],
   "source": [
    "import random\n",
    "import pandas as pd\n",
    "from google_play_scraper import Sort, reviews_all"
   ]
  },
  {
   "cell_type": "markdown",
   "id": "1fcd5b46",
   "metadata": {},
   "source": [
    "## Scraping all data from Google Play"
   ]
  },
  {
   "cell_type": "code",
   "execution_count": null,
   "id": "416cca0a",
   "metadata": {},
   "outputs": [],
   "source": [
    "result = reviews_all(\n",
    "    'com.openai.chatgpt',\n",
    "    sleep_milliseconds=0, # defaults to 0\n",
    "    lang='en', # defaults to 'en'\n",
    "    country='us', # defaults to 'us'\n",
    "    sort=Sort.NEWEST, \n",
    "    filter_score_with=None # defaults to None(means all score)\n",
    ")\n",
    "\n",
    "df = pd.DataFrame(result) \n",
    "\n",
    "# 2. Save the DataFrame to a CSV file\n",
    "df.to_csv('chatgpt_reviews_all_data.csv', index=False)  \n",
    "\n",
    "print(f\"Scraped {len(df)} reviews and saved to chatgpt_reviews_all_data.csv\")"
   ]
  },
  {
   "cell_type": "markdown",
   "id": "7069b029",
   "metadata": {},
   "source": [
    "## Load data and create random sample (10000 data)"
   ]
  },
  {
   "cell_type": "code",
   "execution_count": null,
   "id": "02a77487",
   "metadata": {},
   "outputs": [],
   "source": [
    "# --- Configuration ---\n",
    "# The name of your large dataset file\n",
    "input_filename = 'chatgpt_reviews_all_data.csv'\n",
    "# The desired name for the new sample file\n",
    "output_filename = 'chatgpt_reviews_sample.csv' # <-- FILENAME UPDATED\n",
    "sample_size = 10000\n",
    "\n",
    "df = pd.read_csv(input_filename)\n",
    "sample_df = df.sample(n=sample_size, random_state=42)\n",
    "\n",
    "# Save the new sample to the specified CSV file\n",
    "sample_df.to_csv(output_filename, index=False)\n",
    "print(f\"\\nSuccessfully saved a random sample of {len(sample_df)} reviews to '{output_filename}'.\")\n"
   ]
  }
 ],
 "metadata": {
  "language_info": {
   "name": "python"
  }
 },
 "nbformat": 4,
 "nbformat_minor": 5
}
